{
 "cells": [
  {
   "cell_type": "code",
   "execution_count": 1,
   "metadata": {},
   "outputs": [],
   "source": [
    "from selenium import webdriver\n",
    "from bs4 import BeautifulSoup\n",
    "import pandas as pd\n",
    "import numpy as np\n",
    "from time import sleep\n",
    "from tqdm import tqdm_notebook"
   ]
  },
  {
   "cell_type": "code",
   "execution_count": 2,
   "metadata": {},
   "outputs": [],
   "source": [
    "browser = webdriver.Chrome('../chromedriver')\n",
    "browser.get('https://data.taipei/#/dataset')\n",
    "#爬第一頁\n",
    "soup = BeautifulSoup(browser.page_source,'html.parser')\n",
    "list_=[]\n",
    "for i in soup.find_all('div', class_=\"cell\"):\n",
    "    list_.append(i.text)"
   ]
  },
  {
   "cell_type": "code",
   "execution_count": null,
   "metadata": {},
   "outputs": [
    {
     "data": {
      "application/vnd.jupyter.widget-view+json": {
       "model_id": "5a120e3bebea4345816c694f37fd25e0",
       "version_major": 2,
       "version_minor": 0
      },
      "text/plain": [
       "HBox(children=(IntProgress(value=0, max=123), HTML(value='')))"
      ]
     },
     "metadata": {},
     "output_type": "display_data"
    }
   ],
   "source": [
    "data_name, data_description, update_time, usage_time, data_type, data_format = [],[],[],[],[],[]\n",
    "browser = webdriver.Chrome('../chromedriver')\n",
    "browser.get('https://data.taipei/#/dataset')\n",
    "#爬第一頁\n",
    "soup = BeautifulSoup(browser.page_source,'html.parser')\n",
    "list_=[]\n",
    "for i in soup.find_all('div', class_=\"cell\"):\n",
    "    list_.append(i.text)\n",
    "data_name.extend(list_[6:int(len(list_)/2):6])\n",
    "data_description.extend(list_[7:int(len(list_)/2):6])\n",
    "update_time.extend(list_[8:int(len(list_)/2):6])   \n",
    "usage_time.extend(list_[9:int(len(list_)/2):6])    \n",
    "data_type.extend(list_[10:int(len(list_)/2):6])\n",
    "data_format.extend(list_[11:int(len(list_)/2):6])\n",
    "val = list_[6]\n",
    "#爬後面\n",
    "for _ in tqdm_notebook(range(123)):\n",
    "#     try:\n",
    "    browser.find_element_by_xpath('/html/body/div/div/main/div[2]/div[2]/div/div/div/div/div/div/div/div[1]/button[2]').click()\n",
    "    soup = BeautifulSoup(browser.page_source, \"html.parser\")\n",
    "    list_=[]\n",
    "    for i in soup.find_all('div', class_=\"cell\"):\n",
    "        list_.append(i.text)\n",
    "    while list_[6] == val:\n",
    "        soup = BeautifulSoup(browser.page_source, \"html.parser\")\n",
    "        list_=[]\n",
    "        for i in soup.find_all('div', class_=\"cell\"):\n",
    "            list_.append(i.text)\n",
    "    else:\n",
    "        val = list_[6]\n",
    "        data_name.extend(list_[6:int(len(list_)):6][:10])\n",
    "        data_description.extend(list_[7:int(len(list_)):6][:10])\n",
    "        update_time.extend(list_[8:int(len(list_)):6][:10])   \n",
    "        usage_time.extend(list_[9:int(len(list_)):6][:10])    \n",
    "        data_type.extend(list_[10:int(len(list_)):6][:10])\n",
    "        data_format.extend(list_[11:int(len(list_)):6][:10])\n",
    "#     except:\n",
    "#         print('error',_)\n",
    "\n",
    "browser.close()"
   ]
  },
  {
   "cell_type": "code",
   "execution_count": 81,
   "metadata": {},
   "outputs": [
    {
     "data": {
      "text/plain": [
       "True"
      ]
     },
     "execution_count": 81,
     "metadata": {},
     "output_type": "execute_result"
    }
   ],
   "source": [
    "len(data_name) == len(data_description) == len(update_time) == len(usage_time) == len(data_type) == len(data_format)"
   ]
  },
  {
   "cell_type": "code",
   "execution_count": 82,
   "metadata": {},
   "outputs": [],
   "source": [
    "df = pd.DataFrame({'data_name':data_name,\n",
    "                  'data_description':data_description,\n",
    "                  'update_time':update_time,\n",
    "                  'usage_time':usage_time,\n",
    "                  'data_format':data_format})"
   ]
  },
  {
   "cell_type": "code",
   "execution_count": 86,
   "metadata": {},
   "outputs": [],
   "source": [
    "df = df[:1238]"
   ]
  },
  {
   "cell_type": "code",
   "execution_count": 89,
   "metadata": {},
   "outputs": [],
   "source": [
    "df.to_csv(r'./data/crawler.csv',encoding='utf-8')"
   ]
  }
 ],
 "metadata": {
  "kernelspec": {
   "display_name": "Python 3",
   "language": "python",
   "name": "python3"
  },
  "language_info": {
   "codemirror_mode": {
    "name": "ipython",
    "version": 3
   },
   "file_extension": ".py",
   "mimetype": "text/x-python",
   "name": "python",
   "nbconvert_exporter": "python",
   "pygments_lexer": "ipython3",
   "version": "3.7.3"
  }
 },
 "nbformat": 4,
 "nbformat_minor": 2
}