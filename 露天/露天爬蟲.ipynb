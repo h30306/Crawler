{
 "cells": [
  {
   "cell_type": "code",
   "execution_count": 11,
   "metadata": {},
   "outputs": [],
   "source": [
    "import requests\n",
    "import json\n",
    "from bs4 import BeautifulSoup"
   ]
  },
  {
   "cell_type": "code",
   "execution_count": 12,
   "metadata": {},
   "outputs": [],
   "source": [
    "headers = requests.utils.default_headers()\n",
    "headers['User-Agent'] = 'Mozilla/5.0 (X11; Linux x86_64) AppleWebKit/537.36 (KHTML, like Gecko) Chrome/56.0.2924.87 Safari/537.36'\n",
    "url = 'https://class.ruten.com.tw/user/index00.php?s=hambergurs&p=1'\n",
    "res = requests.get(url,headers=headers)\n",
    "res.encoding = 'utf-8'\n",
    "soup = BeautifulSoup(res.text,\"html.parser\")"
   ]
  },
  {
   "cell_type": "markdown",
   "metadata": {},
   "source": [
    "## 圖片"
   ]
  },
  {
   "cell_type": "code",
   "execution_count": 55,
   "metadata": {},
   "outputs": [],
   "source": [
    "img = soup.find_all('img')\n",
    "img_result=[]\n",
    "for i in range(0,30):\n",
    "    link=img[i].get('src')\n",
    "    img_result.append(link)"
   ]
  },
  {
   "cell_type": "code",
   "execution_count": 56,
   "metadata": {},
   "outputs": [
    {
     "data": {
      "text/plain": [
       "['https://www.ruten.com.tw/images/online_lu.gif',\n",
       " 'https://www.ruten.com.tw/images/search.gif',\n",
       " 'https://www.ruten.com.tw/images/credit/lv4.gif',\n",
       " 'https://www.ruten.com.tw/images/credit/lv4.gif',\n",
       " 'https://www.ruten.com.tw/images/credit/lv4.gif',\n",
       " 'https://www.ruten.com.tw/images/credit/lv4.gif',\n",
       " 'https://www.ruten.com.tw/images/credit/lv4.gif',\n",
       " 'https://www.ruten.com.tw/images/phone_ok.gif',\n",
       " 'https://www.ruten.com.tw/images/mail_ok01.gif',\n",
       " 'https://www.ruten.com.tw/images/default/icon_certified_safe_pc_v2.png',\n",
       " 'https://www.ruten.com.tw/images/addtolove.gif',\n",
       " 'https://www.ruten.com.tw/images/rt_messenger/storebtn.png',\n",
       " 'https://g.rimg.com.tw/s1/6/f1/4d/21408121676109_274_m.jpg',\n",
       " 'https://g.rimg.com.tw/s1/6/18/e7/21716948264167_520_m.jpg',\n",
       " 'https://g.rimg.com.tw/s2/2/20/44/21630210903108_656_m.jpg',\n",
       " 'https://g.rimg.com.tw/s2/1/12/2e/21517179670062_536_m.JPG',\n",
       " 'https://b.rimg.com.tw/s2/e/1d/0a/21913513654538_658_m.JPG',\n",
       " 'https://www.ruten.com.tw/images/icon_new3.gif',\n",
       " 'https://www.ruten.com.tw/images/default/icon_pchomepay_credit.gif',\n",
       " 'https://www.ruten.com.tw/images/default/icon_pchomepay_cash.gif',\n",
       " 'https://www.ruten.com.tw/images/default/icon_cvs_cod.png',\n",
       " 'https://www.ruten.com.tw/images/default/7-11.gif',\n",
       " 'https://www.ruten.com.tw/images/default/icon_interpay.png',\n",
       " 'https://www.ruten.com.tw/images/addtolist.gif',\n",
       " 'https://e.rimg.com.tw/s2/c/19/ea/21913513522666_573_m.jpg',\n",
       " 'https://www.ruten.com.tw/images/icon_new3.gif',\n",
       " 'https://www.ruten.com.tw/images/default/icon_pchomepay_credit.gif',\n",
       " 'https://www.ruten.com.tw/images/default/icon_pchomepay_cash.gif',\n",
       " 'https://www.ruten.com.tw/images/default/icon_cvs_cod.png',\n",
       " 'https://www.ruten.com.tw/images/default/7-11.gif']"
      ]
     },
     "execution_count": 56,
     "metadata": {},
     "output_type": "execute_result"
    }
   ],
   "source": [
    "img_result"
   ]
  },
  {
   "cell_type": "markdown",
   "metadata": {},
   "source": [
    "## 標題"
   ]
  },
  {
   "cell_type": "code",
   "execution_count": 57,
   "metadata": {},
   "outputs": [],
   "source": [
    "title = soup.select('h3.item-name.isDefault-name a')\n",
    "title_result=[]\n",
    "for s in title:\n",
    "    title_result.append(s.text)"
   ]
  },
  {
   "cell_type": "code",
   "execution_count": 58,
   "metadata": {},
   "outputs": [
    {
     "data": {
      "text/plain": [
       "['Ω衣枝獨袖Ω【122】新款韓版男士潮流舞獅圖案短袖T恤',\n",
       " 'Ω衣枝獨袖Ω【142】新款韓版潮流寬鬆休閒潮牌百搭寬鬆工裝五分褲',\n",
       " 'Ω衣枝獨袖Ω【142】新款日系休閒立體口袋男士直筒寬鬆工裝五分褲',\n",
       " 'Ω衣枝獨袖Ω【122】新款韓版個性潮流立領七分袖T恤',\n",
       " 'Ω衣枝獨袖Ω【122】新款寬鬆假兩件韓版潮流七分T恤',\n",
       " 'Ω衣枝獨袖Ω【270】新款韓版露肩蝴蝶結荷葉邊襯衫+高腰裙褲兩件套',\n",
       " 'Ω衣枝獨袖Ω【222】新款小衫通勤襯衫寬鬆夏季百搭雪紡打底衫',\n",
       " 'Ω衣枝獨袖Ω【241】新款彈力修身顯瘦拉環高腰短褲熱褲',\n",
       " 'Ω衣枝獨袖Ω【221】新款雪紡一字肩上衣女式時尚蕾絲打底衫',\n",
       " 'Ω衣枝獨袖Ω【241】新款韓版潮寬鬆顯瘦彈力破洞牛仔短褲',\n",
       " 'Ω衣枝獨袖Ω【270】新款小清新女一字肩雪紡衫+短褲時尚套裝兩件套',\n",
       " 'Ω衣枝獨袖Ω【122】新款男式拉鍊設計休閒長袖T恤',\n",
       " 'Ω衣枝獨袖Ω【122】新款男式拉鍊設計休閒短袖T恤',\n",
       " 'Ω衣枝獨袖Ω【111】爆款男士斜門襟不對稱小立領長袖襯衫',\n",
       " 'Ω衣枝獨袖Ω【142】新款男式休閒褲寬鬆工裝褲短褲純棉迷彩五分褲',\n",
       " 'Ω衣枝獨袖Ω【222】新款超火半露肩小清新百搭短袖t恤',\n",
       " 'Ω衣枝獨袖Ω【222】新款糖果色純棉天使小翅膀短袖t恤',\n",
       " 'Ω衣枝獨袖Ω【122】新款日系修身奧代爾珠地男士短袖POLO衫',\n",
       " 'Ω衣枝獨袖Ω【122】新款圓領寬鬆男士拼接迷彩純棉七分袖T恤',\n",
       " 'Ω衣枝獨袖Ω【150】新款無袖日系連帽全棉男士運動肌肉兄弟健身背心',\n",
       " 'Ω衣枝獨袖Ω【122】新款日系男女假兩件日系寬鬆圓領竹節棉迷彩短袖t恤',\n",
       " 'Ω衣枝獨袖Ω【122】新款日系純棉個性潮流男士短袖印花t恤',\n",
       " 'Ω衣枝獨袖Ω【122】新款大碼翻領純棉個性男士休閒舒適百搭短袖polo衫',\n",
       " 'Ω衣枝獨袖Ω【122】新款大碼男式翻領純棉韓版短袖polo衫',\n",
       " 'Ω衣枝獨袖Ω日式和風和風仙鶴男女改良和服開衫',\n",
       " 'Ω衣枝獨袖Ω【241】新款女無袖短褲韓版彈力性感顯瘦高腰牛仔連體褲',\n",
       " 'Ω衣枝獨袖Ω【270】新款韓版百搭修身T恤+蝴蝶結牛仔背帶裙套裝',\n",
       " 'Ω衣枝獨袖Ω【241】新品韓版簡約純色繫帶高腰花苞短褲女休閒闊腿褲熱褲',\n",
       " 'Ω衣枝獨袖Ω【241】新款時尚百搭修身高腰拉鍊顯瘦熱褲牛仔短褲',\n",
       " 'Ω衣枝獨袖Ω【210】新款韓版夏季chic吊帶中長款顯瘦一字肩牛仔連衣裙']"
      ]
     },
     "execution_count": 58,
     "metadata": {},
     "output_type": "execute_result"
    }
   ],
   "source": [
    "title_result"
   ]
  },
  {
   "cell_type": "markdown",
   "metadata": {},
   "source": [
    "## 價格"
   ]
  },
  {
   "cell_type": "code",
   "execution_count": 15,
   "metadata": {},
   "outputs": [],
   "source": [
    "price = soup.find_all('rt-ml.inline')\n",
    "price = soup.find_all(\"span\", class_=\"item-direct-price rt-ml-remove\")\n",
    "price_result=[]\n",
    "for p in range(0,30):\n",
    "    price_tag=price[p].get('data-price')\n",
    "    price_result.append(price_tag)"
   ]
  },
  {
   "cell_type": "code",
   "execution_count": 50,
   "metadata": {},
   "outputs": [
    {
     "data": {
      "text/plain": [
       "['590',\n",
       " '299',\n",
       " '690',\n",
       " '390',\n",
       " '290',\n",
       " '399',\n",
       " '399',\n",
       " '349',\n",
       " '290',\n",
       " '549',\n",
       " '349',\n",
       " '299',\n",
       " '390',\n",
       " '199',\n",
       " '590',\n",
       " '390',\n",
       " '349',\n",
       " '399',\n",
       " '549',\n",
       " '190',\n",
       " '299',\n",
       " '369',\n",
       " '349',\n",
       " '329',\n",
       " '369',\n",
       " '299',\n",
       " '369',\n",
       " '369',\n",
       " '369',\n",
       " '750']"
      ]
     },
     "execution_count": 50,
     "metadata": {},
     "output_type": "execute_result"
    }
   ],
   "source": [
    "price_result"
   ]
  },
  {
   "cell_type": "code",
   "execution_count": 102,
   "metadata": {},
   "outputs": [],
   "source": [
    "def Runten_Spider(url):\n",
    "    import requests\n",
    "    import json\n",
    "    from bs4 import BeautifulSoup\n",
    "    import pandas as pd\n",
    "    \n",
    "    headers = requests.utils.default_headers()\n",
    "    headers['User-Agent'] = 'Mozilla/5.0 (X11; Linux x86_64) AppleWebKit/537.36 (KHTML, like Gecko) Chrome/56.0.2924.87 Safari/537.36'\n",
    "    img_result=[]\n",
    "    title_result=[]\n",
    "    price_result=[]\n",
    "    for i in range(3):\n",
    "        res = requests.get(url+'&p='+str(i),headers=headers)\n",
    "        res.encoding = 'utf-8'\n",
    "        soup = BeautifulSoup(res.text,\"html.parser\")\n",
    "\n",
    "        #image\n",
    "        img = soup.find_all('img')\n",
    "        for i in range(0,30):\n",
    "            link=img[i].get('src')\n",
    "            img_result.append(link)\n",
    "        #title\n",
    "        title = soup.select('h3.item-name.isDefault-name a')\n",
    "        for s in title:\n",
    "            title_result.append(s.text)\n",
    "        #price\n",
    "        price = soup.find_all('rt-ml.inline')\n",
    "        price = soup.find_all(\"span\", class_=\"item-direct-price rt-ml-remove\")\n",
    "        for p in range(0,30):\n",
    "            price_tag=price[p].get('data-price')\n",
    "            price_result.append(price_tag)\n",
    "    dictionary = {'image_link' : img_result,\n",
    "                       'title' : title_result,\n",
    "                       'price' : price_result}\n",
    "    df=pd.DataFrame(dictionary)\n",
    "    result =  df.to_json(orient='index',force_ascii=False)\n",
    "    return(result)"
   ]
  },
  {
   "cell_type": "code",
   "execution_count": 103,
   "metadata": {},
   "outputs": [
    {
     "data": {
      "text/plain": [
       "'{\"0\":{\"image_link\":\"https:\\\\/\\\\/www.ruten.com.tw\\\\/images\\\\/online_lu.gif\",\"title\":\"【單車倉庫】EBIKE 小海豚電助力鋁合金折疊車 前後碟剎 SHIMANO 7速 52T APP智慧電動自行車\",\"price\":\"1080\"},\"1\":{\"image_link\":\"https:\\\\/\\\\/www.ruten.com.tw\\\\/images\\\\/search.gif\",\"title\":\"【單車倉庫 2019台北自行車展】 E20 20吋電動摺疊車 輕量化 高防水高續航力 電動腳踏車 電動自行車\",\"price\":\"3700\"},\"2\":{\"image_link\":\"https:\\\\/\\\\/www.ruten.com.tw\\\\/images\\\\/button_embed_html.png\",\"title\":\"【單車倉庫 】一次兩條850元 Continenta馬牌700x23 c ULTRA SPORT II可折防刺公路胎 自\",\"price\":\"13480\"},\"3\":{\"image_link\":\"https:\\\\/\\\\/img.ruten.com.tw\\\\/board\\\\/w\\\\/e\\\\/weihung1207.983.jpg\",\"title\":\"單車倉庫   CITYELVES E8S 後貨架內線版\",\"price\":\"18888\"},\"4\":{\"image_link\":\"https:\\\\/\\\\/www.ruten.com.tw\\\\/images\\\\/credit\\\\/lv3.gif\",\"title\":\"【單車倉庫 】Starlight wheels 安娘威 劍俠2碳纖輻條輪組  爬坡輪\",\"price\":\"21,500\"},\"5\":{\"image_link\":\"https:\\\\/\\\\/www.ruten.com.tw\\\\/images\\\\/credit\\\\/lv3.gif\",\"title\":\"<單車倉庫>義大利 GIOS SIERA 鋁合金公路車+碳纖維前叉\\\\/GIOS 藍\\\\/黑\\\\/白\",\"price\":\"15,480\"},\"6\":{\"image_link\":\"https:\\\\/\\\\/www.ruten.com.tw\\\\/images\\\\/phone_ok.gif\",\"title\":\"【單車倉庫100KM版】CITYELVES  F16 PLUS變速電動摺疊車 輕量化 高防水高續航力 電動腳踏車\",\"price\":\"850\"},\"7\":{\"image_link\":\"https:\\\\/\\\\/www.ruten.com.tw\\\\/images\\\\/mail_ok01.gif\",\"title\":\"【單車倉庫 2019台北自行車展】 F12電動摺疊車 輕量化 高防水高續航力 電動腳踏車 電動自行車\",\"price\":\"18,888\"},\"8\":{\"image_link\":\"https:\\\\/\\\\/www.ruten.com.tw\\\\/images\\\\/default\\\\/icon_certified_safe_pc_v2.png\",\"title\":\"CITY ELVES E8電池加購區\",\"price\":\"19,800\"},\"9\":{\"image_link\":\"https:\\\\/\\\\/www.ruten.com.tw\\\\/images\\\\/addtolove.gif\",\"title\":\"【單車倉庫 磁吸停車三培林腳踏】 PROMEND M66磁吸鋁合金三培林 自行車腳踏 公路車踏板 登山車腳踏\",\"price\":\"25,400\"},\"10\":{\"image_link\":\"https:\\\\/\\\\/www.ruten.com.tw\\\\/images\\\\/rt_messenger\\\\/storebtn.png\",\"title\":\"【單車倉庫 下殺免運費】PROMEND(638) 磁吸式公路車安全帽 自行車安全帽 腳踏車安全帽 登山車安全帽 \",\"price\":\"16,380\"},\"11\":{\"image_link\":\"https:\\\\/\\\\/img.ruten.com.tw\\\\/u1\\\\/photo\\\\/w\\\\/e\\\\/weihung1207\\\\/2196cde8-3666-afe9-d29c-00005bc935fd.jpg\",\"title\":\"【單車倉庫】PROMEND 580 磁吸式安全帽 自行車安全帽 自行車安全帽 公路車安全帽 單車安全帽 腳踏車安全帽\",\"price\":\"12,480\"},\"12\":{\"image_link\":\"https:\\\\/\\\\/img.ruten.com.tw\\\\/u1\\\\/photo\\\\/w\\\\/e\\\\/weihung1207\\\\/21cc3f43-b57c-cec8-73ba-0000603d4385.jpg\",\"title\":\"單車倉庫嚴選 PMT hayes 安全 輕量化 透氣性安全帽\",\"price\":\"4,500\"},\"13\":{\"image_link\":\"https:\\\\/\\\\/img.ruten.com.tw\\\\/u1\\\\/photo\\\\/w\\\\/e\\\\/weihung1207\\\\/7b944021-6ce3-6888-bb6d-000061c42910.jpg\",\"title\":\"單車倉庫嚴選 Santic森地客 夏自行車騎行鞋套公路山地鎖鞋鞋套防塵透氣\",\"price\":\"499\"},\"14\":{\"image_link\":\"https:\\\\/\\\\/img.ruten.com.tw\\\\/u1\\\\/photo\\\\/w\\\\/e\\\\/weihung1207\\\\/2a9c6b3f-6887-2cc9-5b4b-00003d9b1e67.jpg\",\"title\":\"單車倉庫】英倫風電動小徑摺疊車 折疊車 小折 變速小折 20吋 小鋼砲折疊車- 21速 公路車\",\"price\":\"638\"},\"15\":{\"image_link\":\"https:\\\\/\\\\/img.ruten.com.tw\\\\/u1\\\\/photo\\\\/w\\\\/e\\\\/weihung1207\\\\/173b4b09-5bcd-91c9-8a89-00000e947c5d.jpg\",\"title\":\"三角尾燈4個+紅藍一字尾燈2個\",\"price\":\"580\"},\"16\":{\"image_link\":\"https:\\\\/\\\\/a.rimg.com.tw\\\\/s2\\\\/f\\\\/94\\\\/0a\\\\/21836590272522_544_m.jpg\",\"title\":\"單車倉庫 碳纖維材質短鼻坐墊 揮別蛋蛋的憂傷\",\"price\":\"1,580\"},\"17\":{\"image_link\":\"https:\\\\/\\\\/a.rimg.com.tw\\\\/s1\\\\/3\\\\/71\\\\/a1\\\\/21534462965153_186_m.jpg\",\"title\":\"【單車倉庫 】Continenta馬牌700x23 c ULTRA SPORT II可折防刺公路胎 自行車內胎\",\"price\":\"258\"},\"18\":{\"image_link\":\"https:\\\\/\\\\/a.rimg.com.tw\\\\/s1\\\\/3\\\\/5b\\\\/ef\\\\/21846002269167_369_m.jpg\",\"title\":\"24速彎把公路車\",\"price\":\"16,353\"},\"19\":{\"image_link\":\"https:\\\\/\\\\/a.rimg.com.tw\\\\/s1\\\\/0\\\\/49\\\\/0d\\\\/21833498068237_720_m.jpg\",\"title\":\"【單車倉庫 】 HUNTER 2.0 碳纖前叉 剎變合一公路車 16\\\\/18(SORA)\\\\/22速(105)三種變速可選\",\"price\":\"900\"},\"20\":{\"image_link\":\"https:\\\\/\\\\/b.rimg.com.tw\\\\/s2\\\\/5\\\\/dd\\\\/ee\\\\/21910074833390_652_m.jpg\",\"title\":\"【單車倉庫】 TwitterE1 高續航力 高防水電助力登山車 鋁合金登山車 電動腳踏車 電動自行車 腳踏車 電動助力車\",\"price\":\"1,580\"},\"21\":{\"image_link\":\"https:\\\\/\\\\/www.ruten.com.tw\\\\/images\\\\/default\\\\/icon_pchomepay_credit.gif\",\"title\":\"【單車倉庫】100%組好出貨 奔速 剎變合一60刀板輪 21速 鋁合金 甩把 彎把公路車\",\"price\":\"480\"},\"22\":{\"image_link\":\"https:\\\\/\\\\/www.ruten.com.tw\\\\/images\\\\/default\\\\/icon_pchomepay_cash.gif\",\"title\":\"☆單車倉庫 2019新款☆S.WEAR Z8S 第三代無線藍芽耳骨傳導耳機 \\\\/公路車耳機\\\\/慢跑耳機\\\\/騎行耳機\\\\/藍芽5.0\",\"price\":\"7,700\"},\"23\":{\"image_link\":\"https:\\\\/\\\\/www.ruten.com.tw\\\\/images\\\\/addtolist.gif\",\"title\":\"【單車倉庫】Water Master《保冰噴射水壺》 超快速補水 620ml 安全無毒不含BPA公路自行車骑行 户外跑步\",\"price\":\"11,500\"},\"24\":{\"image_link\":\"https:\\\\/\\\\/e.rimg.com.tw\\\\/s2\\\\/3\\\\/7b\\\\/84\\\\/21909013787524_856_m.jpg\",\"title\":\"單車倉庫  嚴選 智騎智能訓練台 熱銷款  2018年11月小改款  高功率智能訓練台＄18888自取下單區\",\"price\":\"23,300\"},\"25\":{\"image_link\":\"https:\\\\/\\\\/www.ruten.com.tw\\\\/images\\\\/default\\\\/icon_pchomepay_credit.gif\",\"title\":\"單車倉庫嚴選 破盤價 超亮 長距離騎行 夜晚騎行 自行車前燈 北高 雙塔 淡高 瘋系列 車友愛用款 GS前燈\",\"price\":\"6,880\"},\"26\":{\"image_link\":\"https:\\\\/\\\\/www.ruten.com.tw\\\\/images\\\\/default\\\\/icon_pchomepay_cash.gif\",\"title\":\"【單車倉庫 2019台北自行車展】 E8變速電動摺疊車 高防水高續航力 SHIMANO變速 電動腳踏車 電動自行車\",\"price\":\"1,280\"},\"27\":{\"image_link\":\"https:\\\\/\\\\/www.ruten.com.tw\\\\/images\\\\/addtolist.gif\",\"title\":\"【單車倉庫 一組兩個300元】創意造型雙色 LED自行車尾燈 單車燈 車尾燈 警示燈 公路車尾燈 登山車尾燈 折疊車尾燈\",\"price\":\"250\"},\"28\":{\"image_link\":\"https:\\\\/\\\\/a.rimg.com.tw\\\\/s2\\\\/5\\\\/37\\\\/6e\\\\/21907802795886_381_m.jpg\",\"title\":\"【單車倉庫】創意造型雙色 LED自行車尾燈 單車燈 車尾燈 警示燈 公路車尾燈 登山車尾燈 折疊車尾燈\",\"price\":\"18,888\"},\"29\":{\"image_link\":\"https:\\\\/\\\\/www.ruten.com.tw\\\\/images\\\\/default\\\\/icon_pchomepay_cash.gif\",\"title\":\"(單車倉庫嚴選熱銷) PMT車隊版M-24雙層PC骨架男女通用一體自行車騎行帽速滑安全帽 29孔立體通風\",\"price\":\"850\"},\"30\":{\"image_link\":\"https:\\\\/\\\\/www.ruten.com.tw\\\\/images\\\\/online_lu.gif\",\"title\":\"【單車倉庫】EBIKE 小海豚電助力鋁合金折疊車 前後碟剎 SHIMANO 7速 52T APP智慧電動自行車\",\"price\":\"5380\"},\"31\":{\"image_link\":\"https:\\\\/\\\\/www.ruten.com.tw\\\\/images\\\\/search.gif\",\"title\":\"【單車倉庫 2019台北自行車展】 E20 20吋電動摺疊車 輕量化 高防水高續航力 電動腳踏車 電動自行車\",\"price\":\"13480\"},\"32\":{\"image_link\":\"https:\\\\/\\\\/www.ruten.com.tw\\\\/images\\\\/button_embed_html.png\",\"title\":\"【單車倉庫 】一次兩條850元 Continenta馬牌700x23 c ULTRA SPORT II可折防刺公路胎 自\",\"price\":\"6480\"},\"33\":{\"image_link\":\"https:\\\\/\\\\/img.ruten.com.tw\\\\/board\\\\/w\\\\/e\\\\/weihung1207.983.jpg\",\"title\":\"單車倉庫   CITYELVES E8S 後貨架內線版\",\"price\":\"3700\"},\"34\":{\"image_link\":\"https:\\\\/\\\\/www.ruten.com.tw\\\\/images\\\\/credit\\\\/lv3.gif\",\"title\":\"【單車倉庫 】Starlight wheels 安娘威 劍俠2碳纖輻條輪組  爬坡輪\",\"price\":\"21,500\"},\"35\":{\"image_link\":\"https:\\\\/\\\\/www.ruten.com.tw\\\\/images\\\\/credit\\\\/lv3.gif\",\"title\":\"<單車倉庫>義大利 GIOS SIERA 鋁合金公路車+碳纖維前叉\\\\/GIOS 藍\\\\/黑\\\\/白\",\"price\":\"15,480\"},\"36\":{\"image_link\":\"https:\\\\/\\\\/www.ruten.com.tw\\\\/images\\\\/phone_ok.gif\",\"title\":\"【單車倉庫100KM版】CITYELVES  F16 PLUS變速電動摺疊車 輕量化 高防水高續航力 電動腳踏車\",\"price\":\"850\"},\"37\":{\"image_link\":\"https:\\\\/\\\\/www.ruten.com.tw\\\\/images\\\\/mail_ok01.gif\",\"title\":\"【單車倉庫 2019台北自行車展】 F12電動摺疊車 輕量化 高防水高續航力 電動腳踏車 電動自行車\",\"price\":\"18,888\"},\"38\":{\"image_link\":\"https:\\\\/\\\\/www.ruten.com.tw\\\\/images\\\\/default\\\\/icon_certified_safe_pc_v2.png\",\"title\":\"CITY ELVES E8電池加購區\",\"price\":\"19,800\"},\"39\":{\"image_link\":\"https:\\\\/\\\\/www.ruten.com.tw\\\\/images\\\\/addtolove.gif\",\"title\":\"【單車倉庫 磁吸停車三培林腳踏】 PROMEND M66磁吸鋁合金三培林 自行車腳踏 公路車踏板 登山車腳踏\",\"price\":\"25,400\"},\"40\":{\"image_link\":\"https:\\\\/\\\\/www.ruten.com.tw\\\\/images\\\\/rt_messenger\\\\/storebtn.png\",\"title\":\"【單車倉庫 下殺免運費】PROMEND(638) 磁吸式公路車安全帽 自行車安全帽 腳踏車安全帽 登山車安全帽 \",\"price\":\"16,380\"},\"41\":{\"image_link\":\"https:\\\\/\\\\/img.ruten.com.tw\\\\/u1\\\\/photo\\\\/w\\\\/e\\\\/weihung1207\\\\/2196cde8-3666-afe9-d29c-00005bc935fd.jpg\",\"title\":\"【單車倉庫】PROMEND 580 磁吸式安全帽 自行車安全帽 自行車安全帽 公路車安全帽 單車安全帽 腳踏車安全帽\",\"price\":\"12,480\"},\"42\":{\"image_link\":\"https:\\\\/\\\\/img.ruten.com.tw\\\\/u1\\\\/photo\\\\/w\\\\/e\\\\/weihung1207\\\\/21cc3f43-b57c-cec8-73ba-0000603d4385.jpg\",\"title\":\"單車倉庫嚴選 PMT hayes 安全 輕量化 透氣性安全帽\",\"price\":\"4,500\"},\"43\":{\"image_link\":\"https:\\\\/\\\\/img.ruten.com.tw\\\\/u1\\\\/photo\\\\/w\\\\/e\\\\/weihung1207\\\\/7b944021-6ce3-6888-bb6d-000061c42910.jpg\",\"title\":\"單車倉庫嚴選 Santic森地客 夏自行車騎行鞋套公路山地鎖鞋鞋套防塵透氣\",\"price\":\"499\"},\"44\":{\"image_link\":\"https:\\\\/\\\\/img.ruten.com.tw\\\\/u1\\\\/photo\\\\/w\\\\/e\\\\/weihung1207\\\\/2a9c6b3f-6887-2cc9-5b4b-00003d9b1e67.jpg\",\"title\":\"單車倉庫】英倫風電動小徑摺疊車 折疊車 小折 變速小折 20吋 小鋼砲折疊車- 21速 公路車\",\"price\":\"638\"},\"45\":{\"image_link\":\"https:\\\\/\\\\/img.ruten.com.tw\\\\/u1\\\\/photo\\\\/w\\\\/e\\\\/weihung1207\\\\/173b4b09-5bcd-91c9-8a89-00000e947c5d.jpg\",\"title\":\"三角尾燈4個+紅藍一字尾燈2個\",\"price\":\"580\"},\"46\":{\"image_link\":\"https:\\\\/\\\\/a.rimg.com.tw\\\\/s1\\\\/1\\\\/9a\\\\/c9\\\\/21727648418505_947_m.jpg\",\"title\":\"單車倉庫 碳纖維材質短鼻坐墊 揮別蛋蛋的憂傷\",\"price\":\"1,580\"},\"47\":{\"image_link\":\"https:\\\\/\\\\/a.rimg.com.tw\\\\/s1\\\\/3\\\\/5b\\\\/ef\\\\/21846002269167_369_m.jpg\",\"title\":\"【單車倉庫 】Continenta馬牌700x23 c ULTRA SPORT II可折防刺公路胎 自行車內胎\",\"price\":\"258\"},\"48\":{\"image_link\":\"https:\\\\/\\\\/a.rimg.com.tw\\\\/s2\\\\/2\\\\/67\\\\/1e\\\\/21642005034782_941_m.jpg\",\"title\":\"24速彎把公路車\",\"price\":\"16,353\"},\"49\":{\"image_link\":\"https:\\\\/\\\\/a.rimg.com.tw\\\\/s1\\\\/3\\\\/71\\\\/a1\\\\/21534462965153_186_m.jpg\",\"title\":\"【單車倉庫 】 HUNTER 2.0 碳纖前叉 剎變合一公路車 16\\\\/18(SORA)\\\\/22速(105)三種變速可選\",\"price\":\"900\"},\"50\":{\"image_link\":\"https:\\\\/\\\\/b.rimg.com.tw\\\\/s2\\\\/5\\\\/dd\\\\/ee\\\\/21910074833390_652_m.jpg\",\"title\":\"【單車倉庫】 TwitterE1 高續航力 高防水電助力登山車 鋁合金登山車 電動腳踏車 電動自行車 腳踏車 電動助力車\",\"price\":\"1,580\"},\"51\":{\"image_link\":\"https:\\\\/\\\\/www.ruten.com.tw\\\\/images\\\\/default\\\\/icon_pchomepay_credit.gif\",\"title\":\"【單車倉庫】100%組好出貨 奔速 剎變合一60刀板輪 21速 鋁合金 甩把 彎把公路車\",\"price\":\"480\"},\"52\":{\"image_link\":\"https:\\\\/\\\\/www.ruten.com.tw\\\\/images\\\\/default\\\\/icon_pchomepay_cash.gif\",\"title\":\"☆單車倉庫 2019新款☆S.WEAR Z8S 第三代無線藍芽耳骨傳導耳機 \\\\/公路車耳機\\\\/慢跑耳機\\\\/騎行耳機\\\\/藍芽5.0\",\"price\":\"7,700\"},\"53\":{\"image_link\":\"https:\\\\/\\\\/www.ruten.com.tw\\\\/images\\\\/addtolist.gif\",\"title\":\"【單車倉庫】Water Master《保冰噴射水壺》 超快速補水 620ml 安全無毒不含BPA公路自行車骑行 户外跑步\",\"price\":\"11,500\"},\"54\":{\"image_link\":\"https:\\\\/\\\\/e.rimg.com.tw\\\\/s2\\\\/3\\\\/7b\\\\/84\\\\/21909013787524_856_m.jpg\",\"title\":\"單車倉庫  嚴選 智騎智能訓練台 熱銷款  2018年11月小改款  高功率智能訓練台＄18888自取下單區\",\"price\":\"23,300\"},\"55\":{\"image_link\":\"https:\\\\/\\\\/www.ruten.com.tw\\\\/images\\\\/default\\\\/icon_pchomepay_credit.gif\",\"title\":\"單車倉庫嚴選 破盤價 超亮 長距離騎行 夜晚騎行 自行車前燈 北高 雙塔 淡高 瘋系列 車友愛用款 GS前燈\",\"price\":\"6,880\"},\"56\":{\"image_link\":\"https:\\\\/\\\\/www.ruten.com.tw\\\\/images\\\\/default\\\\/icon_pchomepay_cash.gif\",\"title\":\"【單車倉庫 2019台北自行車展】 E8變速電動摺疊車 高防水高續航力 SHIMANO變速 電動腳踏車 電動自行車\",\"price\":\"1,280\"},\"57\":{\"image_link\":\"https:\\\\/\\\\/www.ruten.com.tw\\\\/images\\\\/addtolist.gif\",\"title\":\"【單車倉庫 一組兩個300元】創意造型雙色 LED自行車尾燈 單車燈 車尾燈 警示燈 公路車尾燈 登山車尾燈 折疊車尾燈\",\"price\":\"250\"},\"58\":{\"image_link\":\"https:\\\\/\\\\/a.rimg.com.tw\\\\/s2\\\\/5\\\\/37\\\\/6e\\\\/21907802795886_381_m.jpg\",\"title\":\"【單車倉庫】創意造型雙色 LED自行車尾燈 單車燈 車尾燈 警示燈 公路車尾燈 登山車尾燈 折疊車尾燈\",\"price\":\"18,888\"},\"59\":{\"image_link\":\"https:\\\\/\\\\/www.ruten.com.tw\\\\/images\\\\/default\\\\/icon_pchomepay_cash.gif\",\"title\":\"(單車倉庫嚴選熱銷) PMT車隊版M-24雙層PC骨架男女通用一體自行車騎行帽速滑安全帽 29孔立體通風\",\"price\":\"850\"},\"60\":{\"image_link\":\"https:\\\\/\\\\/www.ruten.com.tw\\\\/images\\\\/online_lu.gif\",\"title\":\"☆單車倉庫☆星速21速空力彎把公路車 加裝輔助剎車 100%組裝完成\",\"price\":\"3700\"},\"61\":{\"image_link\":\"https:\\\\/\\\\/www.ruten.com.tw\\\\/images\\\\/search.gif\",\"title\":\"【單車倉庫 】城市精靈電動車  寵物電動車  親子電動車   摺疊電動滑板車 電動自行車 可載寵物\",\"price\":\"6480\"},\"62\":{\"image_link\":\"https:\\\\/\\\\/www.ruten.com.tw\\\\/images\\\\/button_embed_html.png\",\"title\":\"【單車倉庫 】簡單生活ROSWELL 21速700C平把 APP電動助力車\",\"price\":\"5380\"},\"63\":{\"image_link\":\"https:\\\\/\\\\/img.ruten.com.tw\\\\/board\\\\/w\\\\/e\\\\/weihung1207.983.jpg\",\"title\":\"坐墊\",\"price\":\"5880\"},\"64\":{\"image_link\":\"https:\\\\/\\\\/www.ruten.com.tw\\\\/images\\\\/credit\\\\/lv3.gif\",\"title\":\"【單車倉庫】3SIXTY mini m3 S把縱向摺疊車\",\"price\":\"3,900\"},\"65\":{\"image_link\":\"https:\\\\/\\\\/www.ruten.com.tw\\\\/images\\\\/credit\\\\/lv3.gif\",\"title\":\"【單車倉庫】 GUB 空力車把碳纖碼表座 兼容 GARMIN BRYTON 碼表 可擴充加購GOPRO 車燈轉接座\",\"price\":\"18,000\"},\"66\":{\"image_link\":\"https:\\\\/\\\\/www.ruten.com.tw\\\\/images\\\\/phone_ok.gif\",\"title\":\"【單車倉庫】GUB GC005鋁合金踏板 自行車踏板 培林踏板  公路車踏板 登山車踏板   加大踏板\",\"price\":\"19,300\"},\"67\":{\"image_link\":\"https:\\\\/\\\\/www.ruten.com.tw\\\\/images\\\\/mail_ok01.gif\",\"title\":\"【單車倉庫】GUB PLUS 9 可360度旋轉 適合3.5-6.2吋鋁合金 機車手機架 自行車手機支架 公路車手機架 \",\"price\":\"400\"},\"68\":{\"image_link\":\"https:\\\\/\\\\/www.ruten.com.tw\\\\/images\\\\/default\\\\/icon_certified_safe_pc_v2.png\",\"title\":\"【單車倉庫】GUB Pro M1公路車\\\\/登山車兩用安全帽 一體成型 自行車安全帽 公路車安全帽 單車安全帽 腳踏車安全帽\",\"price\":\"18,580\"},\"69\":{\"image_link\":\"https:\\\\/\\\\/www.ruten.com.tw\\\\/images\\\\/addtolove.gif\",\"title\":\"【單車倉庫】GUB G-86 就是『甩不掉』全鋁合金 腳踏車手機架 單車手機架 公路車手機架\",\"price\":\"550\"},\"70\":{\"image_link\":\"https:\\\\/\\\\/www.ruten.com.tw\\\\/images\\\\/rt_messenger\\\\/storebtn.png\",\"title\":\"【單車倉庫】PROMEND 580 磁吸式安全帽 自行車安全帽 自行車安全帽 公路車安全帽 單車安全帽 腳踏車安全帽\",\"price\":\"423\"},\"71\":{\"image_link\":\"https:\\\\/\\\\/img.ruten.com.tw\\\\/u1\\\\/photo\\\\/w\\\\/e\\\\/weihung1207\\\\/2196cde8-3666-afe9-d29c-00005bc935fd.jpg\",\"title\":\"50刀 剎變合一 公路車 100%組到好\",\"price\":\"338\"},\"72\":{\"image_link\":\"https:\\\\/\\\\/img.ruten.com.tw\\\\/u1\\\\/photo\\\\/w\\\\/e\\\\/weihung1207\\\\/21cc3f43-b57c-cec8-73ba-0000603d4385.jpg\",\"title\":\"【單車倉庫】贈牛角把 全新 SHIMANO 剎變合一 碟剎避震登山車 鋁合金輪圈 26吋 21速 登山車\",\"price\":\"488\"},\"73\":{\"image_link\":\"https:\\\\/\\\\/img.ruten.com.tw\\\\/u1\\\\/photo\\\\/w\\\\/e\\\\/weihung1207\\\\/7b944021-6ce3-6888-bb6d-000061c42910.jpg\",\"title\":\"Twitter 735 雷電剎變合一公路車22速鋁合金車架\",\"price\":\"333\"},\"74\":{\"image_link\":\"https:\\\\/\\\\/img.ruten.com.tw\\\\/u1\\\\/photo\\\\/w\\\\/e\\\\/weihung1207\\\\/2a9c6b3f-6887-2cc9-5b4b-00003d9b1e67.jpg\",\"title\":\"TWITTER碳纖一體公路彎把把立\",\"price\":\"580\"},\"75\":{\"image_link\":\"https:\\\\/\\\\/img.ruten.com.tw\\\\/u1\\\\/photo\\\\/w\\\\/e\\\\/weihung1207\\\\/173b4b09-5bcd-91c9-8a89-00000e947c5d.jpg\",\"title\":\"單車倉庫嚴選 cinalli可加裝近視框的風鏡 四組鏡片 偏光風鏡\",\"price\":\"6,280\"},\"76\":{\"image_link\":\"https:\\\\/\\\\/a.rimg.com.tw\\\\/s1\\\\/3\\\\/71\\\\/a1\\\\/21534462965153_186_m.jpg\",\"title\":\"700x23C EBIKE 電動輪套件+加速油門\",\"price\":\"3,480\"},\"77\":{\"image_link\":\"https:\\\\/\\\\/a.rimg.com.tw\\\\/s2\\\\/2\\\\/67\\\\/1e\\\\/21642005034782_941_m.jpg\",\"title\":\"【單車倉庫 史上最殺碳纖維車】TWITTER 黑暗騎士碳纖維空力公路車 40刀培林板輪 SHIMANO 105變速系統\",\"price\":\"11,500\"},\"78\":{\"image_link\":\"https:\\\\/\\\\/a.rimg.com.tw\\\\/s1\\\\/1\\\\/9a\\\\/c9\\\\/21727648418505_947_m.jpg\",\"title\":\"3sixty mini M5 加後貨架 贈豬鼻子\",\"price\":\"2,180\"},\"79\":{\"image_link\":\"https:\\\\/\\\\/a.rimg.com.tw\\\\/s1\\\\/d\\\\/2d\\\\/6b\\\\/21609908858219_403_m.jpg\",\"title\":\"【單車倉庫】Twitter 735 雷電剎變合一公路車16速\\\\/22速鋁合金車架\",\"price\":\"690\"},\"80\":{\"image_link\":\"https:\\\\/\\\\/b.rimg.com.tw\\\\/s2\\\\/8\\\\/43\\\\/ac\\\\/21845938627500_245_m.jpg\",\"title\":\"【單車倉庫】Twitter 736 碳纖前叉16速\\\\/22速 剎變合一彎把公路車 鋁合金車架\",\"price\":\"14,800\"},\"81\":{\"image_link\":\"https:\\\\/\\\\/www.ruten.com.tw\\\\/images\\\\/default\\\\/icon_pchomepay_credit.gif\",\"title\":\"【單車倉庫】夏威夷休閒21速小徑車  公路車  城市車  淑女車  腳踏車\",\"price\":\"23,500\"},\"82\":{\"image_link\":\"https:\\\\/\\\\/www.ruten.com.tw\\\\/images\\\\/default\\\\/icon_pchomepay_cash.gif\",\"title\":\"【單車倉庫】歐風小徑單速車  公路車  城市車  淑女車  腳踏車\",\"price\":\"21,300\"},\"83\":{\"image_link\":\"https:\\\\/\\\\/www.ruten.com.tw\\\\/images\\\\/addtolist.gif\",\"title\":\"單車倉庫  牛角把活死雙飛單速車\",\"price\":\"9,990\"},\"84\":{\"image_link\":\"https:\\\\/\\\\/e.rimg.com.tw\\\\/s2\\\\/1\\\\/df\\\\/e0\\\\/21845931917280_764_m.jpg\",\"title\":\"單車倉庫嚴選 超輕量 變色風鏡 Cinalli 變色太陽眼鏡 騎行眼鏡\",\"price\":\"11,480\"},\"85\":{\"image_link\":\"https:\\\\/\\\\/www.ruten.com.tw\\\\/images\\\\/default\\\\/icon_pchomepay_credit.gif\",\"title\":\"【單車倉庫】CLIO 20吋 SHIMANO 7速 V煞鋁合金折疊車\",\"price\":\"7,680\"},\"86\":{\"image_link\":\"https:\\\\/\\\\/www.ruten.com.tw\\\\/images\\\\/default\\\\/icon_pchomepay_cash.gif\",\"title\":\"☆單車倉庫☆ 40刀肌肉車架單速車 公路車 腳踏車 自行車\",\"price\":\"6,380\"},\"87\":{\"image_link\":\"https:\\\\/\\\\/www.ruten.com.tw\\\\/images\\\\/addtolist.gif\",\"title\":\"【單車倉庫】EBIKE 小海豚電助力鋁合金折疊車 前後碟剎 SHIMANO 7速 52T APP智慧電動自行車\",\"price\":\"4,800\"},\"88\":{\"image_link\":\"https:\\\\/\\\\/a.rimg.com.tw\\\\/s1\\\\/5\\\\/ce\\\\/07\\\\/21845930077703_176_m.jpg\",\"title\":\"【單車倉庫 】E-BIKE電動助力+六段變速 親子自行車 城市車 淑女車 電動車\",\"price\":\"690\"},\"89\":{\"image_link\":\"https:\\\\/\\\\/www.ruten.com.tw\\\\/images\\\\/default\\\\/icon_pchomepay_credit.gif\",\"title\":\"【單車倉庫 超商免運】2019新款 cinalli 變色偏光風鏡 太陽眼鏡 騎行眼鏡\",\"price\":\"6,600\"}}'"
      ]
     },
     "execution_count": 103,
     "metadata": {},
     "output_type": "execute_result"
    }
   ],
   "source": [
    "Runten_Spider('https://class.ruten.com.tw/user/index00.php?s=weihung1207')"
   ]
  },
  {
   "cell_type": "code",
   "execution_count": null,
   "metadata": {},
   "outputs": [],
   "source": []
  },
  {
   "cell_type": "code",
   "execution_count": 6,
   "metadata": {},
   "outputs": [
    {
     "ename": "NameError",
     "evalue": "name 'postings' is not defined",
     "output_type": "error",
     "traceback": [
      "\u001b[0;31m---------------------------------------------------------------------------\u001b[0m",
      "\u001b[0;31mNameError\u001b[0m                                 Traceback (most recent call last)",
      "\u001b[0;32m<ipython-input-6-3fc7dde0e881>\u001b[0m in \u001b[0;36m<module>\u001b[0;34m\u001b[0m\n\u001b[1;32m     21\u001b[0m \u001b[0;32mif\u001b[0m \u001b[0m__name__\u001b[0m \u001b[0;34m==\u001b[0m \u001b[0;34m'__main__'\u001b[0m\u001b[0;34m:\u001b[0m\u001b[0;34m\u001b[0m\u001b[0;34m\u001b[0m\u001b[0m\n\u001b[1;32m     22\u001b[0m     \u001b[0mquery\u001b[0m \u001b[0;34m=\u001b[0m \u001b[0;34m[\u001b[0m\u001b[0;34m'brutus'\u001b[0m\u001b[0;34m,\u001b[0m \u001b[0;34m'calpurnia'\u001b[0m\u001b[0;34m,\u001b[0m \u001b[0;34m'alex'\u001b[0m\u001b[0;34m]\u001b[0m\u001b[0;34m\u001b[0m\u001b[0;34m\u001b[0m\u001b[0m\n\u001b[0;32m---> 23\u001b[0;31m     \u001b[0manswer\u001b[0m \u001b[0;34m=\u001b[0m \u001b[0mboolean_retrieval\u001b[0m\u001b[0;34m(\u001b[0m\u001b[0mquery\u001b[0m\u001b[0;34m)\u001b[0m\u001b[0;34m\u001b[0m\u001b[0;34m\u001b[0m\u001b[0m\n\u001b[0m\u001b[1;32m     24\u001b[0m     \u001b[0mprint\u001b[0m\u001b[0;34m(\u001b[0m\u001b[0;34m'The query {:} are appeared in document ID: {:}'\u001b[0m\u001b[0;34m.\u001b[0m\u001b[0mformat\u001b[0m\u001b[0;34m(\u001b[0m\u001b[0mquery\u001b[0m\u001b[0;34m,\u001b[0m\u001b[0manswer\u001b[0m\u001b[0;34m)\u001b[0m\u001b[0;34m)\u001b[0m\u001b[0;34m\u001b[0m\u001b[0;34m\u001b[0m\u001b[0m\n",
      "\u001b[0;32m<ipython-input-6-3fc7dde0e881>\u001b[0m in \u001b[0;36mboolean_retrieval\u001b[0;34m(terms)\u001b[0m\n\u001b[1;32m      6\u001b[0m \u001b[0;34m\u001b[0m\u001b[0m\n\u001b[1;32m      7\u001b[0m \u001b[0;32mdef\u001b[0m \u001b[0mboolean_retrieval\u001b[0m\u001b[0;34m(\u001b[0m\u001b[0mterms\u001b[0m\u001b[0;34m)\u001b[0m\u001b[0;34m:\u001b[0m\u001b[0;34m\u001b[0m\u001b[0;34m\u001b[0m\u001b[0m\n\u001b[0;32m----> 8\u001b[0;31m     \u001b[0mterms\u001b[0m \u001b[0;34m=\u001b[0m \u001b[0mSORTBYINCREASINGFREQUENCY\u001b[0m\u001b[0;34m(\u001b[0m\u001b[0;34m[\u001b[0m\u001b[0mpostings\u001b[0m\u001b[0;34m[\u001b[0m\u001b[0mt\u001b[0m\u001b[0;34m]\u001b[0m \u001b[0;32mfor\u001b[0m \u001b[0mt\u001b[0m \u001b[0;32min\u001b[0m \u001b[0mquery\u001b[0m \u001b[0;32mif\u001b[0m \u001b[0mt\u001b[0m \u001b[0;32min\u001b[0m \u001b[0mpostings\u001b[0m\u001b[0;34m]\u001b[0m\u001b[0;34m)\u001b[0m\u001b[0;34m\u001b[0m\u001b[0;34m\u001b[0m\u001b[0m\n\u001b[0m\u001b[1;32m      9\u001b[0m     \u001b[0;32mif\u001b[0m \u001b[0mlen\u001b[0m\u001b[0;34m(\u001b[0m\u001b[0mterms\u001b[0m\u001b[0;34m)\u001b[0m \u001b[0;34m==\u001b[0m \u001b[0;36m0\u001b[0m\u001b[0;34m:\u001b[0m \u001b[0;32mreturn\u001b[0m \u001b[0;34m[\u001b[0m\u001b[0;34m]\u001b[0m\u001b[0;34m\u001b[0m\u001b[0;34m\u001b[0m\u001b[0m\n\u001b[1;32m     10\u001b[0m     \u001b[0mresult\u001b[0m \u001b[0;34m=\u001b[0m \u001b[0mterms\u001b[0m\u001b[0;34m[\u001b[0m\u001b[0;36m0\u001b[0m\u001b[0;34m]\u001b[0m\u001b[0;34m\u001b[0m\u001b[0;34m\u001b[0m\u001b[0m\n",
      "\u001b[0;32m<ipython-input-6-3fc7dde0e881>\u001b[0m in \u001b[0;36m<listcomp>\u001b[0;34m(.0)\u001b[0m\n\u001b[1;32m      6\u001b[0m \u001b[0;34m\u001b[0m\u001b[0m\n\u001b[1;32m      7\u001b[0m \u001b[0;32mdef\u001b[0m \u001b[0mboolean_retrieval\u001b[0m\u001b[0;34m(\u001b[0m\u001b[0mterms\u001b[0m\u001b[0;34m)\u001b[0m\u001b[0;34m:\u001b[0m\u001b[0;34m\u001b[0m\u001b[0;34m\u001b[0m\u001b[0m\n\u001b[0;32m----> 8\u001b[0;31m     \u001b[0mterms\u001b[0m \u001b[0;34m=\u001b[0m \u001b[0mSORTBYINCREASINGFREQUENCY\u001b[0m\u001b[0;34m(\u001b[0m\u001b[0;34m[\u001b[0m\u001b[0mpostings\u001b[0m\u001b[0;34m[\u001b[0m\u001b[0mt\u001b[0m\u001b[0;34m]\u001b[0m \u001b[0;32mfor\u001b[0m \u001b[0mt\u001b[0m \u001b[0;32min\u001b[0m \u001b[0mquery\u001b[0m \u001b[0;32mif\u001b[0m \u001b[0mt\u001b[0m \u001b[0;32min\u001b[0m \u001b[0mpostings\u001b[0m\u001b[0;34m]\u001b[0m\u001b[0;34m)\u001b[0m\u001b[0;34m\u001b[0m\u001b[0;34m\u001b[0m\u001b[0m\n\u001b[0m\u001b[1;32m      9\u001b[0m     \u001b[0;32mif\u001b[0m \u001b[0mlen\u001b[0m\u001b[0;34m(\u001b[0m\u001b[0mterms\u001b[0m\u001b[0;34m)\u001b[0m \u001b[0;34m==\u001b[0m \u001b[0;36m0\u001b[0m\u001b[0;34m:\u001b[0m \u001b[0;32mreturn\u001b[0m \u001b[0;34m[\u001b[0m\u001b[0;34m]\u001b[0m\u001b[0;34m\u001b[0m\u001b[0;34m\u001b[0m\u001b[0m\n\u001b[1;32m     10\u001b[0m     \u001b[0mresult\u001b[0m \u001b[0;34m=\u001b[0m \u001b[0mterms\u001b[0m\u001b[0;34m[\u001b[0m\u001b[0;36m0\u001b[0m\u001b[0;34m]\u001b[0m\u001b[0;34m\u001b[0m\u001b[0;34m\u001b[0m\u001b[0m\n",
      "\u001b[0;31mNameError\u001b[0m: name 'postings' is not defined"
     ]
    }
   ],
   "source": [
    "def SORTBYINCREASINGFREQUENCY(terms):\n",
    "    ### your code in here ###\n",
    "    terms=sorted(terms,key=len)\n",
    "\n",
    "    return terms\n",
    "\n",
    "def boolean_retrieval(terms):\n",
    "    terms = SORTBYINCREASINGFREQUENCY([postings[t] for t in query if t in postings])\n",
    "    if len(terms) == 0: return []\n",
    "    result = terms[0]\n",
    "    terms = rest(terms)\n",
    "    ### your code in here ###\n",
    "    while terms != [] :\n",
    "        result = INTERSECT(result,terms[0])\n",
    "        terms = rest(terms)\n",
    "    \n",
    "    \n",
    "    \n",
    "    return result\n",
    "\n",
    "if __name__ == '__main__':\n",
    "    query = ['brutus', 'calpurnia', 'alex']\n",
    "    answer = boolean_retrieval(query)\n",
    "    print('The query {:} are appeared in document ID: {:}'.format(query,answer))"
   ]
  },
  {
   "cell_type": "code",
   "execution_count": null,
   "metadata": {},
   "outputs": [],
   "source": []
  }
 ],
 "metadata": {
  "kernelspec": {
   "display_name": "Python 3",
   "language": "python",
   "name": "python3"
  },
  "language_info": {
   "codemirror_mode": {
    "name": "ipython",
    "version": 3
   },
   "file_extension": ".py",
   "mimetype": "text/x-python",
   "name": "python",
   "nbconvert_exporter": "python",
   "pygments_lexer": "ipython3",
   "version": "3.6.8"
  }
 },
 "nbformat": 4,
 "nbformat_minor": 2
}
