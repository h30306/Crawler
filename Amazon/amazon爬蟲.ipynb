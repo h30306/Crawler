{
 "cells": [
  {
   "cell_type": "code",
   "execution_count": 1,
   "metadata": {
    "scrolled": true
   },
   "outputs": [],
   "source": [
    "from selenium import webdriver\n",
    "from bs4 import BeautifulSoup\n",
    "\n",
    "TAG = []\n",
    "browser = webdriver.Chrome()\n",
    "for j in range(1,5):\n",
    "    \n",
    "    url=\"https://www.amazon.com/sp?_encoding=UTF8&asin=B01LTHP2ZK&isAmazonFulfilled=1&isCBA=&marketplaceID=ATVPDKIKX0DER&orderID=&seller=A2EY5WP9K29AC7&tab=home&vasStoreID=\"+str(j)\n",
    "    browser.get(url)\n",
    "    soup = BeautifulSoup(browser.page_source, 'html.parser')    \n",
    "    a_tags = soup.find_all(attrs={\"data-hook\":\"review-body\"})\n",
    "    for tag in a_tags:\n",
    "        print(tag.text)\n",
    "           \n",
    "\n",
    "browser.close()"
   ]
  },
  {
   "cell_type": "code",
   "execution_count": null,
   "metadata": {},
   "outputs": [],
   "source": [
    "content = 'This is a 20 pack of food grade storage boxes by Enther in  9” x 6” x 2” which holds 28 ounces.  (I took some close up photos so you can see the details.  Let me know if you find this helpful.)Since my family is constantly on the go, we pack a lot of meals so we can eat healthy and be economical.  We pack 3 meals everyday for school and also when we are attending sporting events and activities.  We have a lot of Glad and Ziplock storage containers of different sizes which takes up a lot of room.  I was interested in a set that could be nested tightly for storage so it doesn’t take up as much room.  Also, I usually end up disposing of plastic containers after a while so I wanted something that was economical enough to throw out when they get old.  They are BPA free and recyclable.These are great for meals that don’t have a lot of thin liquid.  I tested it with water and held it on it’s side.  After a minute of shaking I had a drop of water drip out.  If it’s something thick like spaghetti sauce, I wouldn’t have any hesitation to store it in these containers.  The lid stays on when it’s stored sideways in a backpack.  The plastic is not brittle.  It’s rugged without any problems with getting crushed in the kids backpacks.  It’s tricky getting the lid off since the lids don’t have a lip to assist you in pulling it off.  To put the lid on, you have to run your fingers all around the edges to snap it into place.  I wouldn’t recommend this for young children.  They will have a problem trying to open the lid and trying to reseal the lid which could be a huge problem if they haven’t eaten everything.  But then again, a 28 ounce size is quite large for a young child.  They tolerate the top rack of a dishwasher.  The container and lid are stamped “Microwave Safe”.They stack well in a cooler and fit into a variety of lunch box styles and sizes.  It’s a generous sized container and can be used for storage of leftover meals.  LIQUID TESTED / RECOMMENDED FOR OLDER CHILDREN AND ADULTS' "
   ]
  },
  {
   "cell_type": "code",
   "execution_count": null,
   "metadata": {},
   "outputs": [],
   "source": [
    "import csv\n",
    "content=open('amazon.text', 'rb').read()"
   ]
  },
  {
   "cell_type": "code",
   "execution_count": null,
   "metadata": {},
   "outputs": [],
   "source": [
    "content1=content.decode(\"utf-8\")"
   ]
  },
  {
   "cell_type": "code",
   "execution_count": null,
   "metadata": {},
   "outputs": [],
   "source": [
    "from collections import Counter"
   ]
  },
  {
   "cell_type": "code",
   "execution_count": null,
   "metadata": {},
   "outputs": [],
   "source": [
    "list1= content.split()\n",
    "counter=Counter(list1)\n",
    "print(counter.most_common)"
   ]
  },
  {
   "cell_type": "code",
   "execution_count": null,
   "metadata": {},
   "outputs": [],
   "source": [
    "from textblob import TextBlob\n",
    "blob=TextBlob(content1)"
   ]
  },
  {
   "cell_type": "code",
   "execution_count": null,
   "metadata": {},
   "outputs": [],
   "source": [
    "blob.sentiment"
   ]
  },
  {
   "cell_type": "code",
   "execution_count": null,
   "metadata": {},
   "outputs": [],
   "source": []
  }
 ],
 "metadata": {
  "kernelspec": {
   "display_name": "Python 3",
   "language": "python",
   "name": "python3"
  },
  "language_info": {
   "codemirror_mode": {
    "name": "ipython",
    "version": 3
   },
   "file_extension": ".py",
   "mimetype": "text/x-python",
   "name": "python",
   "nbconvert_exporter": "python",
   "pygments_lexer": "ipython3",
   "version": "3.6.8"
  }
 },
 "nbformat": 4,
 "nbformat_minor": 2
}
