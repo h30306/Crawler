{
 "cells": [
  {
   "cell_type": "code",
   "execution_count": 1,
   "metadata": {},
   "outputs": [],
   "source": [
    "def Ruten_Spider(url):\n",
    "    import requests\n",
    "    import json\n",
    "    from bs4 import BeautifulSoup\n",
    "    import pandas as pd\n",
    "    \n",
    "    headers = requests.utils.default_headers()\n",
    "    headers['User-Agent'] = 'Mozilla/5.0 (X11; Linux x86_64) AppleWebKit/537.36 (KHTML, like Gecko) Chrome/56.0.2924.87 Safari/537.36'\n",
    "    img_result=[]\n",
    "    title_result=[]\n",
    "    price_result=[]\n",
    "    for i in range(3):\n",
    "        res = requests.get(url+'&p='+str(i),headers=headers)\n",
    "        res.encoding = 'utf-8'\n",
    "        soup = BeautifulSoup(res.text,\"html.parser\")\n",
    "\n",
    "        #image\n",
    "        img = soup.find_all('img')\n",
    "        for i in range(0,30):\n",
    "            link=img[i].get('src')\n",
    "            img_result.append(link)\n",
    "            \n",
    "        #title\n",
    "        title = soup.select('h3.item-name.isDefault-name a')\n",
    "        for s in title:\n",
    "            title_result.append(s.text)\n",
    "            \n",
    "        #price\n",
    "        price = soup.find_all('rt-ml.inline')\n",
    "        price = soup.find_all(\"span\", class_=\"item-direct-price rt-ml-remove\")\n",
    "        for p in range(0,30):\n",
    "            price_tag=price[p].get('data-price')\n",
    "            price_result.append(price_tag)\n",
    "    dictionary = {'image_link' : img_result,\n",
    "                       'title' : title_result,\n",
    "                       'price' : price_result}\n",
    "    df=pd.DataFrame(dictionary)\n",
    "    result =  df.to_json(orient='index',force_ascii=False)\n",
    "    return(result)"
   ]
  },
  {
   "cell_type": "code",
   "execution_count": null,
   "metadata": {},
   "outputs": [],
   "source": [
    "Ruten_Spider('https://class.ruten.com.tw/user/index00.php?s=whw999')"
   ]
  },
  {
   "cell_type": "code",
   "execution_count": 1,
   "metadata": {},
   "outputs": [
    {
     "ename": "NameError",
     "evalue": "name 'soup' is not defined",
     "output_type": "error",
     "traceback": [
      "\u001b[0;31m---------------------------------------------------------------------------\u001b[0m",
      "\u001b[0;31mNameError\u001b[0m                                 Traceback (most recent call last)",
      "\u001b[0;32m<ipython-input-1-2c9038418b98>\u001b[0m in \u001b[0;36m<module>\u001b[0;34m\u001b[0m\n\u001b[0;32m----> 1\u001b[0;31m \u001b[0;32mfor\u001b[0m \u001b[0mlink\u001b[0m \u001b[0;32min\u001b[0m \u001b[0msoup\u001b[0m\u001b[0;34m.\u001b[0m\u001b[0mfind_all\u001b[0m\u001b[0;34m(\u001b[0m\u001b[0;34m'a'\u001b[0m\u001b[0;34m)\u001b[0m\u001b[0;34m:\u001b[0m\u001b[0;34m\u001b[0m\u001b[0;34m\u001b[0m\u001b[0m\n\u001b[0m\u001b[1;32m      2\u001b[0m     \u001b[0mprint\u001b[0m\u001b[0;34m(\u001b[0m\u001b[0mlink\u001b[0m\u001b[0;34m.\u001b[0m\u001b[0mget\u001b[0m\u001b[0;34m(\u001b[0m\u001b[0;34m'href'\u001b[0m\u001b[0;34m)\u001b[0m\u001b[0;34m)\u001b[0m\u001b[0;34m\u001b[0m\u001b[0;34m\u001b[0m\u001b[0m\n",
      "\u001b[0;31mNameError\u001b[0m: name 'soup' is not defined"
     ]
    }
   ],
   "source": []
  },
  {
   "cell_type": "code",
   "execution_count": null,
   "metadata": {},
   "outputs": [],
   "source": []
  }
 ],
 "metadata": {
  "kernelspec": {
   "display_name": "Python 3",
   "language": "python",
   "name": "python3"
  },
  "language_info": {
   "codemirror_mode": {
    "name": "ipython",
    "version": 3
   },
   "file_extension": ".py",
   "mimetype": "text/x-python",
   "name": "python",
   "nbconvert_exporter": "python",
   "pygments_lexer": "ipython3",
   "version": "3.7.3"
  }
 },
 "nbformat": 4,
 "nbformat_minor": 2
}
